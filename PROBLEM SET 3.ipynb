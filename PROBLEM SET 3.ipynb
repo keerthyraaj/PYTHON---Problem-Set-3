{
 "cells": [
  {
   "cell_type": "markdown",
   "metadata": {},
   "source": [
    "# Question 1\n",
    "# Introduction : Special thanks to: https://github.com/justmarkham for sharing the dataset and materials."
   ]
  },
  {
   "cell_type": "markdown",
   "metadata": {},
   "source": [
    "# Step 1. Import the necessary libraries"
   ]
  },
  {
   "cell_type": "code",
   "execution_count": 66,
   "metadata": {},
   "outputs": [],
   "source": [
    "import pandas as pd"
   ]
  },
  {
   "cell_type": "markdown",
   "metadata": {},
   "source": [
    "# Step 2. Import the dataset from this address    \n",
    "# Step 3. Assign it to a variable called users"
   ]
  },
  {
   "cell_type": "code",
   "execution_count": 67,
   "metadata": {},
   "outputs": [],
   "source": [
    "users = pd.read_csv('https://raw.githubusercontent.com/justmarkham/DAT8/master/data/u.user', sep='|', error_bad_lines=False)"
   ]
  },
  {
   "cell_type": "markdown",
   "metadata": {},
   "source": [
    "# Step 4. Discover what is the mean age per occupation"
   ]
  },
  {
   "cell_type": "code",
   "execution_count": 86,
   "metadata": {},
   "outputs": [
    {
     "name": "stdout",
     "output_type": "stream",
     "text": [
      "                     age\n",
      "occupation              \n",
      "administrator  38.746835\n",
      "artist         31.392857\n",
      "doctor         43.571429\n",
      "educator       42.010526\n",
      "engineer       36.388060\n",
      "entertainment  29.222222\n",
      "executive      38.718750\n",
      "healthcare     41.562500\n",
      "homemaker      32.571429\n",
      "lawyer         36.750000\n",
      "librarian      40.000000\n",
      "marketing      37.615385\n",
      "none           26.555556\n",
      "other          34.523810\n",
      "programmer     33.121212\n",
      "retired        63.071429\n",
      "salesman       35.666667\n",
      "scientist      35.548387\n",
      "student        22.081633\n",
      "technician     33.148148\n",
      "writer         36.311111\n"
     ]
    }
   ],
   "source": [
    "a = users.groupby('occupation').mean()\n",
    "del a['user_id']\n",
    "print(a)"
   ]
  },
  {
   "cell_type": "markdown",
   "metadata": {},
   "source": [
    "# Step 5. Discover the Male ratio per occupation and sort it from the most to the least"
   ]
  },
  {
   "cell_type": "code",
   "execution_count": 106,
   "metadata": {},
   "outputs": [
    {
     "name": "stdout",
     "output_type": "stream",
     "text": [
      "                      Male ratio\n",
      "occupation    gender            \n",
      "doctor        M       100.000000\n",
      "engineer      M        97.014925\n",
      "technician    M        96.296296\n",
      "retired       M        92.857143\n",
      "programmer    M        90.909091\n",
      "executive     M        90.625000\n",
      "scientist     M        90.322581\n",
      "entertainment M        88.888889\n",
      "lawyer        M        83.333333\n",
      "salesman      M        75.000000\n",
      "educator      M        72.631579\n",
      "student       M        69.387755\n",
      "other         M        65.714286\n",
      "marketing     M        61.538462\n",
      "writer        M        57.777778\n",
      "none          M        55.555556\n",
      "administrator M        54.430380\n",
      "artist        M        53.571429\n",
      "librarian     M        43.137255\n",
      "healthcare    M        31.250000\n",
      "homemaker     M        14.285714\n"
     ]
    }
   ],
   "source": [
    "x = users.groupby(['occupation']).count()\n",
    "n = x['user_id']\n",
    "userss=pd.DataFrame(users.loc[(users['gender'] == \"M\")])\n",
    "g = userss.groupby(['occupation','gender']).count()\n",
    "m = g['user_id']\n",
    "y = pd.DataFrame(m/n) * 100\n",
    "y.sort_values(by=['user_id'],ascending=False,inplace=True)\n",
    "y = y.rename(columns={'user_id':'Male ratio'})\n",
    "print(y)\n"
   ]
  },
  {
   "cell_type": "markdown",
   "metadata": {},
   "source": [
    "# Step 6. For each occupation, calculate the minimum and maximum ages"
   ]
  },
  {
   "cell_type": "code",
   "execution_count": 12,
   "metadata": {},
   "outputs": [
    {
     "name": "stdout",
     "output_type": "stream",
     "text": [
      "occupation\n",
      "administrator    21.0\n",
      "artist           19.0\n",
      "doctor           28.0\n",
      "educator         23.0\n",
      "engineer         22.0\n",
      "entertainment    15.0\n",
      "executive        22.0\n",
      "healthcare       22.0\n",
      "homemaker        20.0\n",
      "lawyer           21.0\n",
      "librarian        23.0\n",
      "marketing        24.0\n",
      "none             11.0\n",
      "other            13.0\n",
      "programmer       20.0\n",
      "retired          51.0\n",
      "salesman         18.0\n",
      "scientist        23.0\n",
      "student           7.0\n",
      "technician       21.0\n",
      "writer           18.0\n",
      "Name: min, dtype: float64 occupation\n",
      "administrator    70.0\n",
      "artist           48.0\n",
      "doctor           64.0\n",
      "educator         63.0\n",
      "engineer         70.0\n",
      "entertainment    50.0\n",
      "executive        69.0\n",
      "healthcare       62.0\n",
      "homemaker        50.0\n",
      "lawyer           53.0\n",
      "librarian        69.0\n",
      "marketing        55.0\n",
      "none             55.0\n",
      "other            64.0\n",
      "programmer       63.0\n",
      "retired          73.0\n",
      "salesman         66.0\n",
      "scientist        55.0\n",
      "student          42.0\n",
      "technician       55.0\n",
      "writer           60.0\n",
      "Name: max, dtype: float64\n"
     ]
    }
   ],
   "source": [
    "b = users.groupby('occupation')['age'].describe()\n",
    "print(b['min'],b['max'])"
   ]
  },
  {
   "cell_type": "markdown",
   "metadata": {},
   "source": [
    "# Step 7. For each combination of occupation and sex, calculate the mean age"
   ]
  },
  {
   "cell_type": "code",
   "execution_count": 13,
   "metadata": {},
   "outputs": [
    {
     "name": "stdout",
     "output_type": "stream",
     "text": [
      "                            age\n",
      "occupation    gender           \n",
      "administrator F       40.638889\n",
      "              M       37.162791\n",
      "artist        F       30.307692\n",
      "              M       32.333333\n",
      "doctor        M       43.571429\n",
      "educator      F       39.115385\n",
      "              M       43.101449\n",
      "engineer      F       29.500000\n",
      "              M       36.600000\n",
      "entertainment F       31.000000\n",
      "              M       29.000000\n",
      "executive     F       44.000000\n",
      "              M       38.172414\n",
      "healthcare    F       39.818182\n",
      "              M       45.400000\n",
      "homemaker     F       34.166667\n",
      "              M       23.000000\n",
      "lawyer        F       39.500000\n",
      "              M       36.200000\n",
      "librarian     F       40.000000\n",
      "              M       40.000000\n",
      "marketing     F       37.200000\n",
      "              M       37.875000\n",
      "none          F       36.500000\n",
      "              M       18.600000\n",
      "other         F       35.472222\n",
      "              M       34.028986\n",
      "programmer    F       32.166667\n",
      "              M       33.216667\n",
      "retired       F       70.000000\n",
      "              M       62.538462\n",
      "salesman      F       27.000000\n",
      "              M       38.555556\n",
      "scientist     F       28.333333\n",
      "              M       36.321429\n",
      "student       F       20.750000\n",
      "              M       22.669118\n",
      "technician    F       38.000000\n",
      "              M       32.961538\n",
      "writer        F       37.631579\n",
      "              M       35.346154\n"
     ]
    }
   ],
   "source": [
    "c = users.groupby(['occupation','gender']).mean()\n",
    "del c['user_id']\n",
    "print(c)"
   ]
  },
  {
   "cell_type": "markdown",
   "metadata": {},
   "source": [
    "# Step 8. For each occupation present the percentage of women and men"
   ]
  },
  {
   "cell_type": "code",
   "execution_count": 77,
   "metadata": {},
   "outputs": [
    {
     "name": "stdout",
     "output_type": "stream",
     "text": [
      "occupation     gender\n",
      "administrator  F          3.817603\n",
      "               M          4.559915\n",
      "artist         F          1.378579\n",
      "               M          1.590668\n",
      "doctor         M          0.742312\n",
      "educator       F          2.757158\n",
      "               M          7.317073\n",
      "engineer       F          0.212089\n",
      "               M          6.892895\n",
      "entertainment  F          0.212089\n",
      "               M          1.696713\n",
      "executive      F          0.318134\n",
      "               M          3.075292\n",
      "healthcare     F          1.166490\n",
      "               M          0.530223\n",
      "homemaker      F          0.636267\n",
      "               M          0.106045\n",
      "lawyer         F          0.212089\n",
      "               M          1.060445\n",
      "librarian      F          3.075292\n",
      "               M          2.332980\n",
      "marketing      F          1.060445\n",
      "               M          1.696713\n",
      "none           F          0.424178\n",
      "               M          0.530223\n",
      "other          F          3.817603\n",
      "               M          7.317073\n",
      "programmer     F          0.636267\n",
      "               M          6.362672\n",
      "retired        F          0.106045\n",
      "               M          1.378579\n",
      "salesman       F          0.318134\n",
      "               M          0.954401\n",
      "scientist      F          0.318134\n",
      "               M          2.969247\n",
      "student        F          6.362672\n",
      "               M         14.422057\n",
      "technician     F          0.106045\n",
      "               M          2.757158\n",
      "writer         F          2.014846\n",
      "               M          2.757158\n",
      "Name: user_id, dtype: float64\n"
     ]
    }
   ],
   "source": [
    "d = users.groupby(['occupation','gender']).count()\n",
    "e = d['user_id']\n",
    "f = (e/943) * 100\n",
    "print(f)"
   ]
  },
  {
   "cell_type": "code",
   "execution_count": null,
   "metadata": {},
   "outputs": [],
   "source": []
  },
  {
   "cell_type": "code",
   "execution_count": null,
   "metadata": {},
   "outputs": [],
   "source": []
  },
  {
   "cell_type": "code",
   "execution_count": null,
   "metadata": {},
   "outputs": [],
   "source": []
  },
  {
   "cell_type": "code",
   "execution_count": null,
   "metadata": {},
   "outputs": [],
   "source": []
  },
  {
   "cell_type": "markdown",
   "metadata": {},
   "source": [
    "# Question 2\n",
    "# Euro Teams"
   ]
  },
  {
   "cell_type": "markdown",
   "metadata": {},
   "source": [
    "# Step 1. Import the necessary libraries\n"
   ]
  },
  {
   "cell_type": "code",
   "execution_count": 49,
   "metadata": {},
   "outputs": [],
   "source": [
    "import pandas as pd"
   ]
  },
  {
   "cell_type": "markdown",
   "metadata": {},
   "source": [
    "# Step 2. Import the dataset from this address  \n",
    "# Step 3. Assign it to a variable called euro12"
   ]
  },
  {
   "cell_type": "code",
   "execution_count": 50,
   "metadata": {},
   "outputs": [],
   "source": [
    "euro12 = pd.read_csv(r'https://raw.githubusercontent.com/guipsamora/pandas_exercises/master/02_Filtering_%26_Sorting/Euro12/Euro_2012_stats_TEAM.csv')"
   ]
  },
  {
   "cell_type": "markdown",
   "metadata": {},
   "source": [
    "# Step 4. Select only the Goal column"
   ]
  },
  {
   "cell_type": "code",
   "execution_count": 5,
   "metadata": {},
   "outputs": [
    {
     "name": "stdout",
     "output_type": "stream",
     "text": [
      "0      4\n",
      "1      4\n",
      "2      4\n",
      "3      5\n",
      "4      3\n",
      "5     10\n",
      "6      5\n",
      "7      6\n",
      "8      2\n",
      "9      2\n",
      "10     6\n",
      "11     1\n",
      "12     5\n",
      "13    12\n",
      "14     5\n",
      "15     2\n",
      "Name: Goals, dtype: int64\n"
     ]
    }
   ],
   "source": [
    "print(euro12.Goals)"
   ]
  },
  {
   "cell_type": "markdown",
   "metadata": {},
   "source": [
    "# Step 5. How many team participated in the Euro2012?"
   ]
  },
  {
   "cell_type": "code",
   "execution_count": 6,
   "metadata": {},
   "outputs": [
    {
     "name": "stdout",
     "output_type": "stream",
     "text": [
      "16\n"
     ]
    }
   ],
   "source": [
    "print(len(euro12.Team.unique()))"
   ]
  },
  {
   "cell_type": "markdown",
   "metadata": {},
   "source": [
    "# Step 6. What is the number of columns in the dataset?"
   ]
  },
  {
   "cell_type": "code",
   "execution_count": 7,
   "metadata": {},
   "outputs": [
    {
     "name": "stdout",
     "output_type": "stream",
     "text": [
      "35\n"
     ]
    }
   ],
   "source": [
    "print(euro12.shape[1])"
   ]
  },
  {
   "cell_type": "markdown",
   "metadata": {},
   "source": [
    "# Step 7. View only the columns Team, Yellow Cards and Red Cards and assign them to a dataframe called discipline"
   ]
  },
  {
   "cell_type": "code",
   "execution_count": 8,
   "metadata": {},
   "outputs": [
    {
     "name": "stdout",
     "output_type": "stream",
     "text": [
      "                   Team  Yellow Cards  Red Cards\n",
      "0               Croatia             9          0\n",
      "1        Czech Republic             7          0\n",
      "2               Denmark             4          0\n",
      "3               England             5          0\n",
      "4                France             6          0\n",
      "5               Germany             4          0\n",
      "6                Greece             9          1\n",
      "7                 Italy            16          0\n",
      "8           Netherlands             5          0\n",
      "9                Poland             7          1\n",
      "10             Portugal            12          0\n",
      "11  Republic of Ireland             6          1\n",
      "12               Russia             6          0\n",
      "13                Spain            11          0\n",
      "14               Sweden             7          0\n",
      "15              Ukraine             5          0\n"
     ]
    }
   ],
   "source": [
    "discipline = pd.DataFrame(euro12, columns = ['Team','Yellow Cards','Red Cards'])\n",
    "print(discipline)"
   ]
  },
  {
   "cell_type": "markdown",
   "metadata": {},
   "source": [
    "# Step 8. Sort the teams by Red Cards, then to Yellow Cards"
   ]
  },
  {
   "cell_type": "code",
   "execution_count": 9,
   "metadata": {},
   "outputs": [
    {
     "name": "stdout",
     "output_type": "stream",
     "text": [
      "                   Team  Yellow Cards  Red Cards\n",
      "2               Denmark             4          0\n",
      "5               Germany             4          0\n",
      "3               England             5          0\n",
      "8           Netherlands             5          0\n",
      "15              Ukraine             5          0\n",
      "4                France             6          0\n",
      "12               Russia             6          0\n",
      "1        Czech Republic             7          0\n",
      "14               Sweden             7          0\n",
      "0               Croatia             9          0\n",
      "13                Spain            11          0\n",
      "10             Portugal            12          0\n",
      "7                 Italy            16          0\n",
      "11  Republic of Ireland             6          1\n",
      "9                Poland             7          1\n",
      "6                Greece             9          1\n"
     ]
    }
   ],
   "source": [
    "print(discipline.sort_values(by=['Red Cards','Yellow Cards']))"
   ]
  },
  {
   "cell_type": "markdown",
   "metadata": {},
   "source": [
    "# Step 9. Calculate the mean Yellow Cards given per Team"
   ]
  },
  {
   "cell_type": "code",
   "execution_count": 10,
   "metadata": {},
   "outputs": [
    {
     "name": "stdout",
     "output_type": "stream",
     "text": [
      "7.4375\n"
     ]
    }
   ],
   "source": [
    "print(discipline[\"Yellow Cards\"].mean())"
   ]
  },
  {
   "cell_type": "markdown",
   "metadata": {},
   "source": [
    "# Step 10. Filter teams that scored more than 6 goalsStep"
   ]
  },
  {
   "cell_type": "code",
   "execution_count": 16,
   "metadata": {},
   "outputs": [
    {
     "name": "stdout",
     "output_type": "stream",
     "text": [
      "5     Germany\n",
      "13      Spain\n",
      "Name: Team, dtype: object\n"
     ]
    }
   ],
   "source": [
    "goal_6 = euro12[euro12['Goals'] > 6]\n",
    "print(goal_6.Team)"
   ]
  },
  {
   "cell_type": "markdown",
   "metadata": {},
   "source": [
    "# Step 11. Select the teams that start with G\n"
   ]
  },
  {
   "cell_type": "code",
   "execution_count": 58,
   "metadata": {},
   "outputs": [
    {
     "name": "stdout",
     "output_type": "stream",
     "text": [
      "5    Germany\n",
      "6     Greece\n",
      "Name: Team, dtype: object\n"
     ]
    }
   ],
   "source": [
    "a = euro12[\"Team\"].str.startswith(\"G\")\n",
    "print(euro12[a]['Team'])"
   ]
  },
  {
   "cell_type": "markdown",
   "metadata": {},
   "source": [
    "# Step 12. Select the first 7 columns"
   ]
  },
  {
   "cell_type": "code",
   "execution_count": 59,
   "metadata": {},
   "outputs": [
    {
     "name": "stdout",
     "output_type": "stream",
     "text": [
      "                   Team  Goals  Shots on target  Shots off target  \\\n",
      "0               Croatia      4               13                12   \n",
      "1        Czech Republic      4               13                18   \n",
      "2               Denmark      4               10                10   \n",
      "3               England      5               11                18   \n",
      "4                France      3               22                24   \n",
      "5               Germany     10               32                32   \n",
      "6                Greece      5                8                18   \n",
      "7                 Italy      6               34                45   \n",
      "8           Netherlands      2               12                36   \n",
      "9                Poland      2               15                23   \n",
      "10             Portugal      6               22                42   \n",
      "11  Republic of Ireland      1                7                12   \n",
      "12               Russia      5                9                31   \n",
      "13                Spain     12               42                33   \n",
      "14               Sweden      5               17                19   \n",
      "15              Ukraine      2                7                26   \n",
      "\n",
      "   Shooting Accuracy % Goals-to-shots  Total shots (inc. Blocked)  \n",
      "0              51.9%            16.0%                          32  \n",
      "1              41.9%            12.9%                          39  \n",
      "2              50.0%            20.0%                          27  \n",
      "3              50.0%            17.2%                          40  \n",
      "4              37.9%             6.5%                          65  \n",
      "5              47.8%            15.6%                          80  \n",
      "6              30.7%            19.2%                          32  \n",
      "7              43.0%             7.5%                         110  \n",
      "8              25.0%             4.1%                          60  \n",
      "9              39.4%             5.2%                          48  \n",
      "10             34.3%             9.3%                          82  \n",
      "11             36.8%             5.2%                          28  \n",
      "12             22.5%            12.5%                          59  \n",
      "13             55.9%            16.0%                         100  \n",
      "14             47.2%            13.8%                          39  \n",
      "15             21.2%             6.0%                          38  \n"
     ]
    }
   ],
   "source": [
    "print(euro12[['Team', 'Goals', 'Shots on target', 'Shots off target','Shooting Accuracy',\n",
    "              '% Goals-to-shots', 'Total shots (inc. Blocked)']])"
   ]
  },
  {
   "cell_type": "markdown",
   "metadata": {},
   "source": [
    "# Step 13. Select all columns except the last 3"
   ]
  },
  {
   "cell_type": "code",
   "execution_count": 60,
   "metadata": {},
   "outputs": [
    {
     "name": "stdout",
     "output_type": "stream",
     "text": [
      "                   Team  Goals  Shots on target  Shots off target  \\\n",
      "0               Croatia      4               13                12   \n",
      "1        Czech Republic      4               13                18   \n",
      "2               Denmark      4               10                10   \n",
      "3               England      5               11                18   \n",
      "4                France      3               22                24   \n",
      "5               Germany     10               32                32   \n",
      "6                Greece      5                8                18   \n",
      "7                 Italy      6               34                45   \n",
      "8           Netherlands      2               12                36   \n",
      "9                Poland      2               15                23   \n",
      "10             Portugal      6               22                42   \n",
      "11  Republic of Ireland      1                7                12   \n",
      "12               Russia      5                9                31   \n",
      "13                Spain     12               42                33   \n",
      "14               Sweden      5               17                19   \n",
      "15              Ukraine      2                7                26   \n",
      "\n",
      "   Shooting Accuracy % Goals-to-shots  Total shots (inc. Blocked)  \\\n",
      "0              51.9%            16.0%                          32   \n",
      "1              41.9%            12.9%                          39   \n",
      "2              50.0%            20.0%                          27   \n",
      "3              50.0%            17.2%                          40   \n",
      "4              37.9%             6.5%                          65   \n",
      "5              47.8%            15.6%                          80   \n",
      "6              30.7%            19.2%                          32   \n",
      "7              43.0%             7.5%                         110   \n",
      "8              25.0%             4.1%                          60   \n",
      "9              39.4%             5.2%                          48   \n",
      "10             34.3%             9.3%                          82   \n",
      "11             36.8%             5.2%                          28   \n",
      "12             22.5%            12.5%                          59   \n",
      "13             55.9%            16.0%                         100   \n",
      "14             47.2%            13.8%                          39   \n",
      "15             21.2%             6.0%                          38   \n",
      "\n",
      "    Hit Woodwork  Penalty goals  Penalties not scored  ...  Clean Sheets  \\\n",
      "0              0              0                     0  ...             0   \n",
      "1              0              0                     0  ...             1   \n",
      "2              1              0                     0  ...             1   \n",
      "3              0              0                     0  ...             2   \n",
      "4              1              0                     0  ...             1   \n",
      "5              2              1                     0  ...             1   \n",
      "6              1              1                     1  ...             1   \n",
      "7              2              0                     0  ...             2   \n",
      "8              2              0                     0  ...             0   \n",
      "9              0              0                     0  ...             0   \n",
      "10             6              0                     0  ...             2   \n",
      "11             0              0                     0  ...             0   \n",
      "12             2              0                     0  ...             0   \n",
      "13             0              1                     0  ...             5   \n",
      "14             3              0                     0  ...             1   \n",
      "15             0              0                     0  ...             0   \n",
      "\n",
      "    Blocks  Goals conceded Saves made  Saves-to-shots ratio  Fouls Won  \\\n",
      "0       10               3         13                 81.3%         41   \n",
      "1       10               6          9                 60.1%         53   \n",
      "2       10               5         10                 66.7%         25   \n",
      "3       29               3         22                 88.1%         43   \n",
      "4        7               5          6                 54.6%         36   \n",
      "5       11               6         10                 62.6%         63   \n",
      "6       23               7         13                 65.1%         67   \n",
      "7       18               7         20                 74.1%        101   \n",
      "8        9               5         12                 70.6%         35   \n",
      "9        8               3          6                 66.7%         48   \n",
      "10      11               4         10                 71.5%         73   \n",
      "11      23               9         17                 65.4%         43   \n",
      "12       8               3         10                 77.0%         34   \n",
      "13       8               1         15                 93.8%        102   \n",
      "14      12               5          8                 61.6%         35   \n",
      "15       4               4         13                 76.5%         48   \n",
      "\n",
      "    Fouls Conceded  Offsides  Yellow Cards  Red Cards  \n",
      "0               62         2             9          0  \n",
      "1               73         8             7          0  \n",
      "2               38         8             4          0  \n",
      "3               45         6             5          0  \n",
      "4               51         5             6          0  \n",
      "5               49        12             4          0  \n",
      "6               48        12             9          1  \n",
      "7               89        16            16          0  \n",
      "8               30         3             5          0  \n",
      "9               56         3             7          1  \n",
      "10              90        10            12          0  \n",
      "11              51        11             6          1  \n",
      "12              43         4             6          0  \n",
      "13              83        19            11          0  \n",
      "14              51         7             7          0  \n",
      "15              31         4             5          0  \n",
      "\n",
      "[16 rows x 32 columns]\n"
     ]
    }
   ],
   "source": [
    "print(euro12[['Team', 'Goals', 'Shots on target', 'Shots off target',\n",
    "       'Shooting Accuracy', '% Goals-to-shots', 'Total shots (inc. Blocked)',\n",
    "       'Hit Woodwork', 'Penalty goals', 'Penalties not scored', 'Headed goals',\n",
    "       'Passes', 'Passes completed', 'Passing Accuracy', 'Touches', 'Crosses',\n",
    "       'Dribbles', 'Corners Taken', 'Tackles', 'Clearances', 'Interceptions',\n",
    "       'Clearances off line', 'Clean Sheets', 'Blocks', 'Goals conceded',\n",
    "       'Saves made', 'Saves-to-shots ratio', 'Fouls Won', 'Fouls Conceded',\n",
    "       'Offsides', 'Yellow Cards', 'Red Cards']])"
   ]
  },
  {
   "cell_type": "markdown",
   "metadata": {},
   "source": [
    "# Step 14. Present only the Shooting Accuracy from England, Italy and Russia"
   ]
  },
  {
   "cell_type": "code",
   "execution_count": 64,
   "metadata": {},
   "outputs": [
    {
     "name": "stdout",
     "output_type": "stream",
     "text": [
      "       Team Shooting Accuracy\n",
      "3   England             50.0%\n",
      "7     Italy             43.0%\n",
      "12   Russia             22.5%\n"
     ]
    }
   ],
   "source": [
    "c=pd.DataFrame(euro12.loc[(euro12['Team'] == \"England\")])\n",
    "d=pd.DataFrame(euro12.loc[(euro12['Team'] == \"Italy\")])\n",
    "e=pd.DataFrame(euro12.loc[(euro12['Team'] == \"Russia\")])\n",
    "f = pd.concat([c, d, e])\n",
    "print(f[['Team','Shooting Accuracy']])"
   ]
  },
  {
   "cell_type": "code",
   "execution_count": null,
   "metadata": {},
   "outputs": [],
   "source": []
  },
  {
   "cell_type": "code",
   "execution_count": null,
   "metadata": {},
   "outputs": [],
   "source": []
  },
  {
   "cell_type": "code",
   "execution_count": null,
   "metadata": {},
   "outputs": [],
   "source": []
  },
  {
   "cell_type": "code",
   "execution_count": null,
   "metadata": {},
   "outputs": [],
   "source": []
  },
  {
   "cell_type": "markdown",
   "metadata": {},
   "source": [
    "# Question 3\n",
    "# Housing"
   ]
  },
  {
   "cell_type": "markdown",
   "metadata": {},
   "source": [
    "# Step 1. Import the necessary libraries"
   ]
  },
  {
   "cell_type": "code",
   "execution_count": 23,
   "metadata": {},
   "outputs": [],
   "source": [
    "import numpy as np\n",
    "import pandas as pd"
   ]
  },
  {
   "cell_type": "markdown",
   "metadata": {},
   "source": [
    "# Step 2. Create 3 different Series, each of length 100, as follows:\n",
    "# 1.The first a random number from 1 to 4"
   ]
  },
  {
   "cell_type": "code",
   "execution_count": 24,
   "metadata": {},
   "outputs": [
    {
     "name": "stdout",
     "output_type": "stream",
     "text": [
      "0     1\n",
      "1     1\n",
      "2     2\n",
      "3     1\n",
      "4     2\n",
      "     ..\n",
      "95    3\n",
      "96    1\n",
      "97    3\n",
      "98    1\n",
      "99    1\n",
      "Length: 100, dtype: int32\n"
     ]
    }
   ],
   "source": [
    "a = np.random.randint(1,4,size=100) \n",
    "a1 = pd.Series(a)\n",
    "print(a1)"
   ]
  },
  {
   "cell_type": "markdown",
   "metadata": {},
   "source": [
    "# 2.The second a random number from 1 to 3"
   ]
  },
  {
   "cell_type": "code",
   "execution_count": 25,
   "metadata": {},
   "outputs": [
    {
     "name": "stdout",
     "output_type": "stream",
     "text": [
      "0     1\n",
      "1     1\n",
      "2     2\n",
      "3     2\n",
      "4     1\n",
      "     ..\n",
      "95    1\n",
      "96    2\n",
      "97    1\n",
      "98    1\n",
      "99    2\n",
      "Length: 100, dtype: int32\n"
     ]
    }
   ],
   "source": [
    "b = np.random.randint(1,3,size=100)\n",
    "b1 = pd.Series(b)\n",
    "print(b1)"
   ]
  },
  {
   "cell_type": "markdown",
   "metadata": {},
   "source": [
    "# 3.The third a random number from 10,000 to 30,000"
   ]
  },
  {
   "cell_type": "code",
   "execution_count": 26,
   "metadata": {},
   "outputs": [
    {
     "name": "stdout",
     "output_type": "stream",
     "text": [
      "0     15046\n",
      "1     29411\n",
      "2     26205\n",
      "3     27408\n",
      "4     21636\n",
      "      ...  \n",
      "95    25133\n",
      "96    28146\n",
      "97    24547\n",
      "98    26426\n",
      "99    28367\n",
      "Length: 100, dtype: int32\n"
     ]
    }
   ],
   "source": [
    "c = np.random.randint(10000,30000,size=100)\n",
    "c1 = pd.Series(c)\n",
    "print(c1)"
   ]
  },
  {
   "cell_type": "markdown",
   "metadata": {},
   "source": [
    "# Step 3. Create a DataFrame by joinning the Series by column\n",
    "# Step 4. Change the name of the columns to bedrs, bathrs, price_sqr_meter"
   ]
  },
  {
   "cell_type": "code",
   "execution_count": 27,
   "metadata": {},
   "outputs": [
    {
     "name": "stdout",
     "output_type": "stream",
     "text": [
      "    bedrs  bathrs  price_sqr_meter\n",
      "0       1       1            15046\n",
      "1       1       1            29411\n",
      "2       2       2            26205\n",
      "3       1       2            27408\n",
      "4       2       1            21636\n",
      "..    ...     ...              ...\n",
      "95      3       1            25133\n",
      "96      1       2            28146\n",
      "97      3       1            24547\n",
      "98      1       1            26426\n",
      "99      1       2            28367\n",
      "\n",
      "[100 rows x 3 columns]\n"
     ]
    }
   ],
   "source": [
    "x = pd.DataFrame(a1, columns=['bedrs'])\n",
    "x['bathrs'] = b1\n",
    "x['price_sqr_meter'] = c1\n",
    "print(x)"
   ]
  },
  {
   "cell_type": "markdown",
   "metadata": {},
   "source": [
    "# Step 5. Create a one column DataFrame with the values of the 3 Series and assign it to 'bigcolumn'\n"
   ]
  },
  {
   "cell_type": "code",
   "execution_count": 29,
   "metadata": {},
   "outputs": [
    {
     "name": "stdout",
     "output_type": "stream",
     "text": [
      "     bigcolumn\n",
      "0            1\n",
      "1            1\n",
      "2            2\n",
      "3            1\n",
      "4            2\n",
      "..         ...\n",
      "295      25133\n",
      "296      28146\n",
      "297      24547\n",
      "298      26426\n",
      "299      28367\n",
      "\n",
      "[300 rows x 1 columns]\n"
     ]
    }
   ],
   "source": [
    "d1 = pd.Series(a1.append(b1,ignore_index = True))\n",
    "e1 = pd.Series(d1.append(c1,ignore_index = True))\n",
    "y = pd.DataFrame(e1,columns=['bigcolumn'])\n",
    "print(y)"
   ]
  },
  {
   "cell_type": "markdown",
   "metadata": {},
   "source": [
    "# Step 6. Ops it seems it is going only until index 99. Is it true?"
   ]
  },
  {
   "cell_type": "code",
   "execution_count": 34,
   "metadata": {},
   "outputs": [
    {
     "name": "stdout",
     "output_type": "stream",
     "text": [
      "FALSE, the DataFrame have index until 299 because the column of it have combination of three different Series of length 100 \n"
     ]
    }
   ],
   "source": [
    "print(\"FALSE, the DataFrame have index until 299 because the column of it have combination of three different Series of length 100 \")"
   ]
  },
  {
   "cell_type": "markdown",
   "metadata": {},
   "source": [
    "# Step 7. Reindex the DataFrame so it goes from 0 to 299\n"
   ]
  },
  {
   "cell_type": "code",
   "execution_count": 35,
   "metadata": {},
   "outputs": [
    {
     "name": "stdout",
     "output_type": "stream",
     "text": [
      "The DataFrame goes already from 0 to 299\n"
     ]
    }
   ],
   "source": [
    "print(\"The DataFrame goes already from 0 to 299\")"
   ]
  },
  {
   "cell_type": "code",
   "execution_count": null,
   "metadata": {},
   "outputs": [],
   "source": []
  },
  {
   "cell_type": "code",
   "execution_count": null,
   "metadata": {},
   "outputs": [],
   "source": []
  },
  {
   "cell_type": "code",
   "execution_count": null,
   "metadata": {},
   "outputs": [],
   "source": []
  },
  {
   "cell_type": "code",
   "execution_count": null,
   "metadata": {},
   "outputs": [],
   "source": []
  },
  {
   "cell_type": "markdown",
   "metadata": {},
   "source": [
    "# Question 4"
   ]
  },
  {
   "cell_type": "markdown",
   "metadata": {},
   "source": [
    "    Wind Statistics\n",
    "    The data have been modified to contain some missing values, identified by NaN.\n",
    "    Using pandas should make this exercise easier, in particular for the bonus question.\n",
    "    You should be able to perform all of these operations without using a for loop or other looping construct.\n",
    "\n",
    "    The data in 'wind.data' has the following format:\n",
    "    Yr Mo Dy RPT VAL ROS KIL SHA BIR DUB CLA MUL CLO BEL MAL\n",
    "    61 1 1 15.04 14.96 13.17 9.29 NaN 9.87 13.67 10.25 10.83 12.58 18.50 15.04\n",
    "    61 1 2 14.71 NaN 10.83 6.50 12.62 7.67 11.50 10.04 9.79 9.67 17.54 13.83\n",
    "    61 1 3 18.50 16.88 12.33 10.13 11.17 6.17 11.25 NaN 8.50 7.67 12.75 12.71\n",
    "\n",
    "    The first three columns are year, month, and day. The remaining 12 columns are\n",
    "    average windspeeds in knots at 12 locations in Ireland on that day."
   ]
  },
  {
   "cell_type": "markdown",
   "metadata": {},
   "source": [
    "# Step 1. Import the necessary libraries"
   ]
  },
  {
   "cell_type": "code",
   "execution_count": 38,
   "metadata": {},
   "outputs": [],
   "source": [
    "import pandas as pd"
   ]
  },
  {
   "cell_type": "markdown",
   "metadata": {},
   "source": [
    "# Step 2. Import the dataset from this address\n",
    "# Step 3. Assign it to a variable called data"
   ]
  },
  {
   "cell_type": "code",
   "execution_count": 41,
   "metadata": {},
   "outputs": [],
   "source": [
    "data = pd.read_table('https://raw.githubusercontent.com/guipsamora/pandas_exercises/master/06_Stats/Wind_Stats/wind.data',sep='\\s+')"
   ]
  },
  {
   "cell_type": "markdown",
   "metadata": {},
   "source": [
    "# Step 3.replace the first 3 columns by a proper datetime index.\n",
    "# Step 4. Year 2061? Do we really have data from this year? Create a function to fix it and apply it."
   ]
  },
  {
   "cell_type": "code",
   "execution_count": 42,
   "metadata": {},
   "outputs": [
    {
     "name": "stdout",
     "output_type": "stream",
     "text": [
      "       datetime    RPT    VAL    ROS    KIL    SHA    BIR    DUB    CLA  \\\n",
      "0    1961-01-01  15.04  14.96  13.17   9.29    NaN   9.87  13.67  10.25   \n",
      "1    1961-01-02  14.71    NaN  10.83   6.50  12.62   7.67  11.50  10.04   \n",
      "2    1961-01-03  18.50  16.88  12.33  10.13  11.17   6.17  11.25    NaN   \n",
      "3    1961-01-04  10.58   6.63  11.75   4.58   4.54   2.88   8.63   1.79   \n",
      "4    1961-01-05  13.33  13.25  11.42   6.17  10.71   8.21  11.92   6.54   \n",
      "...         ...    ...    ...    ...    ...    ...    ...    ...    ...   \n",
      "6569 1978-12-27  17.58  16.96  17.62   8.08  13.21  11.67  14.46  15.59   \n",
      "6570 1978-12-28  13.21   5.46  13.46   5.00   8.12   9.42  14.33  16.25   \n",
      "6571 1978-12-29  14.00  10.29  14.42   8.71   9.71  10.54  19.17  12.46   \n",
      "6572 1978-12-30  18.50  14.04  21.29   9.13  12.75   9.71  18.08  12.87   \n",
      "6573 1978-12-31  20.33  17.41  27.29   9.59  12.08  10.13  19.25  11.63   \n",
      "\n",
      "        MUL    CLO    BEL    MAL  \n",
      "0     10.83  12.58  18.50  15.04  \n",
      "1      9.79   9.67  17.54  13.83  \n",
      "2      8.50   7.67  12.75  12.71  \n",
      "3      5.83   5.88   5.46  10.88  \n",
      "4     10.92  10.34  12.92  11.83  \n",
      "...     ...    ...    ...    ...  \n",
      "6569  14.04  14.00  17.21  40.08  \n",
      "6570  15.25  18.05  21.79  41.46  \n",
      "6571  14.50  16.42  18.88  29.58  \n",
      "6572  12.46  12.12  14.67  28.79  \n",
      "6573  11.58  11.38  12.08  22.08  \n",
      "\n",
      "[6574 rows x 13 columns]\n"
     ]
    }
   ],
   "source": [
    "data['datetime'] = '19' + data['Yr'].map(str) + '-' + data['Mo'].map(str) + '-' + data['Dy'].map(str)\n",
    "data['datetime'] = pd.to_datetime(data['datetime'])\n",
    "del data[\"Yr\"]\n",
    "del data[\"Mo\"]\n",
    "del data[\"Dy\"]\n",
    "col = list(data.columns)\n",
    "col = [col[-1]] + col[:-1]\n",
    "data = data[col]\n",
    "print(data)"
   ]
  },
  {
   "cell_type": "markdown",
   "metadata": {},
   "source": [
    "# Step 5. Set the right dates as the index. Pay attention at the data type, it should be datetime64[ns]."
   ]
  },
  {
   "cell_type": "code",
   "execution_count": 43,
   "metadata": {},
   "outputs": [
    {
     "name": "stdout",
     "output_type": "stream",
     "text": [
      "datetime64[ns]\n"
     ]
    }
   ],
   "source": [
    "print(data.datetime.dtypes)"
   ]
  },
  {
   "cell_type": "markdown",
   "metadata": {},
   "source": [
    "# Step 6. Compute how many values are missing for each location over the entire record.They should be ignored in all calculations below"
   ]
  },
  {
   "cell_type": "code",
   "execution_count": 44,
   "metadata": {},
   "outputs": [
    {
     "name": "stdout",
     "output_type": "stream",
     "text": [
      "31\n"
     ]
    }
   ],
   "source": [
    "print(data.isnull().sum().sum())\n",
    "data = data.dropna()"
   ]
  },
  {
   "cell_type": "markdown",
   "metadata": {},
   "source": [
    "# Step 7. Compute how many non-missing values there are in total."
   ]
  },
  {
   "cell_type": "code",
   "execution_count": 45,
   "metadata": {},
   "outputs": [
    {
     "name": "stdout",
     "output_type": "stream",
     "text": [
      "85098\n"
     ]
    }
   ],
   "source": [
    "print(data.notnull().sum().sum())"
   ]
  },
  {
   "cell_type": "markdown",
   "metadata": {},
   "source": [
    "# Step 8. Calculate the mean windspeeds of the windspeeds over all the locations and all the times. A single number for the entire dataset."
   ]
  },
  {
   "cell_type": "code",
   "execution_count": 46,
   "metadata": {},
   "outputs": [
    {
     "name": "stdout",
     "output_type": "stream",
     "text": [
      "10.222465245951712\n"
     ]
    },
    {
     "name": "stderr",
     "output_type": "stream",
     "text": [
      "<ipython-input-46-23a8ced61425>:1: FutureWarning: DataFrame.mean and DataFrame.median with numeric_only=None will include datetime64 and datetime64tz columns in a future version.\n",
      "  print(data.mean().mean())\n"
     ]
    }
   ],
   "source": [
    "print(data.mean().mean())"
   ]
  },
  {
   "cell_type": "markdown",
   "metadata": {},
   "source": [
    "# Step 9. Create a DataFrame called loc_stats and calculate the min, max and mean windspeeds and standard deviations of the windspeeds at each location over all the days. A different set of numbers for each location"
   ]
  },
  {
   "cell_type": "code",
   "execution_count": 47,
   "metadata": {},
   "outputs": [
    {
     "name": "stdout",
     "output_type": "stream",
     "text": [
      "               RPT          VAL          ROS          KIL          SHA  \\\n",
      "count  6546.000000  6546.000000  6546.000000  6546.000000  6546.000000   \n",
      "mean     12.359979    10.640267    11.656396     6.298587    10.448923   \n",
      "std       5.618805     5.268695     5.007805     3.600942     4.933988   \n",
      "min       0.670000     0.210000     1.500000     0.000000     0.130000   \n",
      "25%       8.120000     6.670000     7.970000     3.580000     6.750000   \n",
      "50%      11.710000    10.130000    10.920000     5.750000     9.960000   \n",
      "75%      15.920000    14.040000    14.670000     8.380000    13.540000   \n",
      "max      35.800000    33.370000    33.840000    28.460000    37.540000   \n",
      "\n",
      "               BIR          DUB          CLA          MUL          CLO  \\\n",
      "count  6546.000000  6546.000000  6546.000000  6546.000000  6546.000000   \n",
      "mean      7.085066     9.793006     8.486601     8.490257     8.696705   \n",
      "std       3.967735     4.978030     4.498299     4.165947     4.500488   \n",
      "min       0.000000     0.000000     0.000000     0.000000     0.040000   \n",
      "25%       4.000000     6.000000     5.090000     5.370000     5.330000   \n",
      "50%       6.830000     9.210000     8.080000     8.170000     8.250000   \n",
      "75%       9.670000    12.960000    11.420000    11.170000    11.580000   \n",
      "max      26.160000    30.370000    31.080000    25.880000    28.210000   \n",
      "\n",
      "               BEL          MAL  \n",
      "count  6546.000000  6546.000000  \n",
      "mean     13.110668    15.603129  \n",
      "std       5.829054     6.702178  \n",
      "min       0.130000     0.670000  \n",
      "25%       8.670000    10.710000  \n",
      "50%      12.500000    15.000000  \n",
      "75%      16.880000    19.860000  \n",
      "max      42.380000    42.540000  \n"
     ]
    }
   ],
   "source": [
    "a = data.describe()\n",
    "loc_stats = pd.DataFrame(a)\n",
    "print(loc_stats)"
   ]
  },
  {
   "cell_type": "markdown",
   "metadata": {},
   "source": [
    "# Step 10. Create a DataFrame called day_stats and calculate the min, max and mean windspeed and standard deviations of the windspeeds across all the locations at each day. A different set of numbers for each day"
   ]
  },
  {
   "cell_type": "code",
   "execution_count": 48,
   "metadata": {},
   "outputs": [
    {
     "name": "stdout",
     "output_type": "stream",
     "text": [
      "             RPT                                                 VAL         \\\n",
      "           count   mean std    min    25%    50%    75%    max count   mean   \n",
      "datetime                                                                      \n",
      "1961-01-04   1.0  10.58 NaN  10.58  10.58  10.58  10.58  10.58   1.0   6.63   \n",
      "1961-01-05   1.0  13.33 NaN  13.33  13.33  13.33  13.33  13.33   1.0  13.25   \n",
      "1961-01-06   1.0  13.21 NaN  13.21  13.21  13.21  13.21  13.21   1.0   8.12   \n",
      "1961-01-07   1.0  13.50 NaN  13.50  13.50  13.50  13.50  13.50   1.0  14.29   \n",
      "1961-01-08   1.0  10.96 NaN  10.96  10.96  10.96  10.96  10.96   1.0   9.75   \n",
      "...          ...    ...  ..    ...    ...    ...    ...    ...   ...    ...   \n",
      "1978-12-27   1.0  17.58 NaN  17.58  17.58  17.58  17.58  17.58   1.0  16.96   \n",
      "1978-12-28   1.0  13.21 NaN  13.21  13.21  13.21  13.21  13.21   1.0   5.46   \n",
      "1978-12-29   1.0  14.00 NaN  14.00  14.00  14.00  14.00  14.00   1.0  10.29   \n",
      "1978-12-30   1.0  18.50 NaN  18.50  18.50  18.50  18.50  18.50   1.0  14.04   \n",
      "1978-12-31   1.0  20.33 NaN  20.33  20.33  20.33  20.33  20.33   1.0  17.41   \n",
      "\n",
      "            ...    BEL          MAL                                         \\\n",
      "            ...    75%    max count   mean std    min    25%    50%    75%   \n",
      "datetime    ...                                                              \n",
      "1961-01-04  ...   5.46   5.46   1.0  10.88 NaN  10.88  10.88  10.88  10.88   \n",
      "1961-01-05  ...  12.92  12.92   1.0  11.83 NaN  11.83  11.83  11.83  11.83   \n",
      "1961-01-06  ...   8.12   8.12   1.0  13.17 NaN  13.17  13.17  13.17  13.17   \n",
      "1961-01-07  ...  13.96  13.96   1.0  13.79 NaN  13.79  13.79  13.79  13.79   \n",
      "1961-01-08  ...  16.62  16.62   1.0  16.46 NaN  16.46  16.46  16.46  16.46   \n",
      "...         ...    ...    ...   ...    ...  ..    ...    ...    ...    ...   \n",
      "1978-12-27  ...  17.21  17.21   1.0  40.08 NaN  40.08  40.08  40.08  40.08   \n",
      "1978-12-28  ...  21.79  21.79   1.0  41.46 NaN  41.46  41.46  41.46  41.46   \n",
      "1978-12-29  ...  18.88  18.88   1.0  29.58 NaN  29.58  29.58  29.58  29.58   \n",
      "1978-12-30  ...  14.67  14.67   1.0  28.79 NaN  28.79  28.79  28.79  28.79   \n",
      "1978-12-31  ...  12.08  12.08   1.0  22.08 NaN  22.08  22.08  22.08  22.08   \n",
      "\n",
      "                   \n",
      "              max  \n",
      "datetime           \n",
      "1961-01-04  10.88  \n",
      "1961-01-05  11.83  \n",
      "1961-01-06  13.17  \n",
      "1961-01-07  13.79  \n",
      "1961-01-08  16.46  \n",
      "...           ...  \n",
      "1978-12-27  40.08  \n",
      "1978-12-28  41.46  \n",
      "1978-12-29  29.58  \n",
      "1978-12-30  28.79  \n",
      "1978-12-31  22.08  \n",
      "\n",
      "[6546 rows x 96 columns]\n"
     ]
    }
   ],
   "source": [
    "d = data.groupby('datetime').describe()\n",
    "day_stats = pd.DataFrame(d)\n",
    "print(day_stats)"
   ]
  },
  {
   "cell_type": "markdown",
   "metadata": {},
   "source": [
    "# Step 11. Find the average windspeed in January for each location. Treat January 1961 and January 1962 both as January."
   ]
  },
  {
   "cell_type": "code",
   "execution_count": null,
   "metadata": {},
   "outputs": [],
   "source": []
  },
  {
   "cell_type": "markdown",
   "metadata": {},
   "source": [
    "# Step 12. Downsample the record to a yearly frequency for each location."
   ]
  },
  {
   "cell_type": "code",
   "execution_count": 46,
   "metadata": {},
   "outputs": [
    {
     "name": "stdout",
     "output_type": "stream",
     "text": [
      "                  RPT        VAL        ROS       KIL        SHA       BIR  \\\n",
      "datetime                                                                     \n",
      "1961-12-31  12.207588  10.207206  11.282853  6.846441  10.742735  7.617147   \n",
      "1962-12-31  12.274779  10.150856  11.714365  6.964337  10.692265  7.415331   \n",
      "1963-12-31  12.813452  10.836986  12.541151  7.330055  11.724110  8.434712   \n",
      "1964-12-31  12.363661  10.920164  12.104372  6.787787  11.454481  7.570874   \n",
      "1965-12-31  12.451370  11.075534  11.848767  6.858466  11.024795  7.478110   \n",
      "1966-12-31  13.461973  11.557205  12.020630  7.345726  11.805041  7.793671   \n",
      "1967-12-31  12.737151  10.990986  11.739397  7.143425  11.630740  7.368164   \n",
      "1968-12-31  11.835628  10.468197  11.409754  6.477678  10.760765  6.067322   \n",
      "1969-12-31  11.166356   9.723699  10.902000  5.767973   9.873918  6.189973   \n",
      "1970-12-31  12.600329  10.726932  11.730247  6.217178  10.567370  7.609452   \n",
      "1971-12-31  11.273123   9.095178  11.088329  5.241507   9.440329  6.097151   \n",
      "1972-12-31  12.463962  10.561311  12.058333  5.929699   9.430410  6.358825   \n",
      "1973-12-31  11.828466  10.680493  10.680493  5.547863   9.640877  6.548740   \n",
      "1974-12-31  13.643096  11.811781  12.336356  6.427041  11.110986  6.809781   \n",
      "1975-12-31  12.008575  10.293836  11.564712  5.269096   9.190082  5.668521   \n",
      "1976-12-31  11.737842  10.203115  10.761230  5.109426   8.846339  6.311038   \n",
      "1977-12-31  13.099616  11.144493  12.627836  6.073945  10.003836  8.586438   \n",
      "1978-12-31  12.504356  11.044274  11.380000  6.082356  10.167233  7.650658   \n",
      "\n",
      "                  DUB        CLA       MUL        CLO        BEL        MAL  \n",
      "datetime                                                                     \n",
      "1961-12-31   9.633265   8.684912  8.571941   9.700471  13.271559  13.587206  \n",
      "1962-12-31  11.043122   8.829807  8.335552   9.693812  12.985691  14.361436  \n",
      "1963-12-31  11.075699  10.336548  8.903589  10.224438  13.638877  14.999014  \n",
      "1964-12-31  10.259153   9.467350  7.789016  10.207951  13.740546  14.910301  \n",
      "1965-12-31  10.618712   8.879918  7.907425   9.918082  12.964247  15.591644  \n",
      "1966-12-31  10.579808   8.835096  8.514438   9.768959  14.265836  16.307260  \n",
      "1967-12-31  10.652027   9.325616  8.645014   9.547425  14.774548  17.135945  \n",
      "1968-12-31   8.859180   8.255519  7.224945   7.832978  12.808634  15.017486  \n",
      "1969-12-31   8.564493   7.711397  7.924521   7.754384  12.621233  15.762904  \n",
      "1970-12-31   9.609890   8.334630  9.297616   8.289808  13.183644  16.456027  \n",
      "1971-12-31   8.385890   6.757315  7.915370   7.229753  12.208932  15.025233  \n",
      "1972-12-31   9.704508   7.680792  8.357295   7.515273  12.727377  15.028716  \n",
      "1973-12-31   8.482110   7.614274  8.245534   7.812411  12.169699  15.441096  \n",
      "1974-12-31  10.084603   9.896986  9.331753   8.736356  13.252959  16.947671  \n",
      "1975-12-31   8.562603   7.843836  8.797945   7.382822  12.631671  15.307863  \n",
      "1976-12-31   9.149126   7.146202  8.883716   7.883087  12.332377  15.471448  \n",
      "1977-12-31  11.523205   8.378384  9.098192   8.821616  13.459068  16.590849  \n",
      "1978-12-31   9.489342   8.800466  9.089753   8.301699  12.967397  16.771370  \n"
     ]
    }
   ],
   "source": [
    "c = data.groupby('datetime').mean()\n",
    "print(c.resample('Y').mean())"
   ]
  },
  {
   "cell_type": "markdown",
   "metadata": {},
   "source": [
    "# Step 13. Downsample the record to a monthly frequency for each location"
   ]
  },
  {
   "cell_type": "code",
   "execution_count": 47,
   "metadata": {},
   "outputs": [
    {
     "name": "stdout",
     "output_type": "stream",
     "text": [
      "                  RPT        VAL        ROS       KIL        SHA        BIR  \\\n",
      "datetime                                                                      \n",
      "1961-01-31  14.506154  11.225385  12.960385  6.840000  10.509231   8.174231   \n",
      "1961-02-28  16.401923  15.037308  14.470000  9.242692  13.778077  10.884615   \n",
      "1961-03-31  10.660000  11.097407  10.420000  7.100741  10.265556   8.580000   \n",
      "1961-04-30  10.722667   9.427667   9.998000  5.830667   8.435000   6.495000   \n",
      "1961-05-31  10.024643   8.495714  10.539286  5.992500   9.480357   6.633929   \n",
      "...               ...        ...        ...       ...        ...        ...   \n",
      "1978-08-31   9.645161   8.259355   9.032258  4.502903   7.368065   5.935161   \n",
      "1978-09-30  10.913667  10.895000  10.635000  5.725000  10.372000   9.278333   \n",
      "1978-10-31   9.897742   8.670968   9.295806  4.721290   8.525161   6.774194   \n",
      "1978-11-30  16.151667  14.802667  13.508000  7.317333  11.475000   8.743000   \n",
      "1978-12-31  16.175484  13.748065  15.635161  7.094839  11.398710   9.241613   \n",
      "\n",
      "                  DUB        CLA        MUL        CLO        BEL        MAL  \n",
      "datetime                                                                      \n",
      "1961-01-31  10.403077   8.670769   8.323462   9.490385  13.270000  14.341538  \n",
      "1961-02-28  11.868077  11.746154  11.748462  12.626538  18.165000  15.300769  \n",
      "1961-03-31   9.108519   9.329259  10.100000  10.989630  16.066296  15.418889  \n",
      "1961-04-30   6.925333   7.094667   7.342333   7.237000  11.147333  10.278333  \n",
      "1961-05-31   7.645714   8.206786   8.120714   8.534643  11.912143  11.911786  \n",
      "...               ...        ...        ...        ...        ...        ...  \n",
      "1978-08-31   5.650323   5.417742   7.241290   5.536774  10.466774  12.054194  \n",
      "1978-09-30  10.790333   9.583000  10.069333   8.939000  15.680333  19.391333  \n",
      "1978-10-31   8.115484   7.337742   8.297742   8.243871  13.776774  17.150000  \n",
      "1978-11-30  11.492333   9.657333  10.701333  10.676000  17.404667  20.723000  \n",
      "1978-12-31  12.077419  10.194839  10.616774  11.028710  13.859677  21.371613  \n",
      "\n",
      "[216 rows x 12 columns]\n"
     ]
    }
   ],
   "source": [
    "print(c.resample('M').mean())"
   ]
  },
  {
   "cell_type": "markdown",
   "metadata": {},
   "source": [
    "# Step 14. Downsample the record to a weekly frequency for each location."
   ]
  },
  {
   "cell_type": "code",
   "execution_count": 48,
   "metadata": {},
   "outputs": [
    {
     "name": "stdout",
     "output_type": "stream",
     "text": [
      "                  RPT        VAL        ROS        KIL        SHA        BIR  \\\n",
      "datetime                                                                       \n",
      "1961-01-08  12.316000  10.408000  10.050000   5.658000   8.506000   6.242000   \n",
      "1961-01-15  12.468571   8.967143  11.958571   4.630000   7.351429   5.072857   \n",
      "1961-01-22  12.100000   9.500000  11.681667   4.293333   8.966667   6.938333   \n",
      "1961-01-29  19.880000  14.846667  17.548333  11.916667  16.325000  14.016667   \n",
      "1961-02-05  16.827143  15.460000  12.618571   8.247143  13.361429   9.107143   \n",
      "...               ...        ...        ...        ...        ...        ...   \n",
      "1978-12-03  14.934286  11.232857  13.941429   5.565714  10.215714   8.618571   \n",
      "1978-12-10  20.740000  19.190000  17.034286   9.777143  15.287143  12.774286   \n",
      "1978-12-17  16.758571  14.692857  14.987143   6.917143  11.397143   7.272857   \n",
      "1978-12-24  11.155714   8.008571  13.172857   4.004286   7.825714   6.290000   \n",
      "1978-12-31  14.951429  11.801429  16.035714   6.507143   9.660000   8.620000   \n",
      "\n",
      "                  DUB        CLA        MUL        CLO        BEL        MAL  \n",
      "datetime                                                                      \n",
      "1961-01-08  10.936000   5.932000   8.150000   8.428000  11.416000  13.226000  \n",
      "1961-01-15   7.535714   6.820000   5.712857   7.571429  11.125714  11.024286  \n",
      "1961-01-22   7.828333   7.291667   5.891667   6.693333   9.993333  10.346667  \n",
      "1961-01-29  14.450000  14.311667  13.316667  14.921667  19.800000  22.388333  \n",
      "1961-02-05  12.204286   8.548571   9.821429   9.460000  14.012857  11.935714  \n",
      "...               ...        ...        ...        ...        ...        ...  \n",
      "1978-12-03   9.642857   7.685714   9.011429   9.547143  11.835714  18.728571  \n",
      "1978-12-10  14.437143  12.488571  13.870000  14.082857  18.517143  23.061429  \n",
      "1978-12-17  10.208571   7.967143   9.168571   8.565714  11.102857  15.562857  \n",
      "1978-12-24   7.798571   8.667143   7.151429   8.072857  11.845714  18.977143  \n",
      "1978-12-31  13.708571  10.477143  10.868571  11.471429  12.947143  26.844286  \n",
      "\n",
      "[939 rows x 12 columns]\n"
     ]
    }
   ],
   "source": [
    "print(c.resample('W').mean())"
   ]
  },
  {
   "cell_type": "markdown",
   "metadata": {},
   "source": [
    "# Step 15. Calculate the min, max and mean windspeeds and standard deviations of the windspeeds across all locations for each week (assume that the first week starts on January 2 1961) for the first 52 weeks."
   ]
  },
  {
   "cell_type": "code",
   "execution_count": null,
   "metadata": {},
   "outputs": [],
   "source": []
  },
  {
   "cell_type": "code",
   "execution_count": null,
   "metadata": {},
   "outputs": [],
   "source": []
  },
  {
   "cell_type": "code",
   "execution_count": null,
   "metadata": {},
   "outputs": [],
   "source": []
  },
  {
   "cell_type": "code",
   "execution_count": null,
   "metadata": {},
   "outputs": [],
   "source": []
  },
  {
   "cell_type": "code",
   "execution_count": null,
   "metadata": {},
   "outputs": [],
   "source": []
  },
  {
   "cell_type": "markdown",
   "metadata": {},
   "source": [
    "# Question 5"
   ]
  },
  {
   "cell_type": "markdown",
   "metadata": {},
   "source": [
    "# Step 1. Import the necessary libraries"
   ]
  },
  {
   "cell_type": "code",
   "execution_count": 49,
   "metadata": {},
   "outputs": [],
   "source": [
    "import pandas as pd"
   ]
  },
  {
   "cell_type": "markdown",
   "metadata": {},
   "source": [
    "# Step 2. Import the dataset from this address.\n",
    "# Step 3. Assign it to a variable called chipo."
   ]
  },
  {
   "cell_type": "code",
   "execution_count": 50,
   "metadata": {},
   "outputs": [],
   "source": [
    "chipo = pd.read_csv(r'https://raw.githubusercontent.com/justmarkham/DAT8/master/data/chipotle.tsv',sep='\\t')"
   ]
  },
  {
   "cell_type": "markdown",
   "metadata": {},
   "source": [
    "# Step 4. See the first 10 entries"
   ]
  },
  {
   "cell_type": "code",
   "execution_count": 51,
   "metadata": {},
   "outputs": [
    {
     "name": "stdout",
     "output_type": "stream",
     "text": [
      "   order_id  quantity                              item_name  \\\n",
      "0         1         1           Chips and Fresh Tomato Salsa   \n",
      "1         1         1                                   Izze   \n",
      "2         1         1                       Nantucket Nectar   \n",
      "3         1         1  Chips and Tomatillo-Green Chili Salsa   \n",
      "4         2         2                           Chicken Bowl   \n",
      "5         3         1                           Chicken Bowl   \n",
      "6         3         1                          Side of Chips   \n",
      "7         4         1                          Steak Burrito   \n",
      "8         4         1                       Steak Soft Tacos   \n",
      "9         5         1                          Steak Burrito   \n",
      "\n",
      "                                  choice_description item_price  \n",
      "0                                                NaN     $2.39   \n",
      "1                                       [Clementine]     $3.39   \n",
      "2                                            [Apple]     $3.39   \n",
      "3                                                NaN     $2.39   \n",
      "4  [Tomatillo-Red Chili Salsa (Hot), [Black Beans...    $16.98   \n",
      "5  [Fresh Tomato Salsa (Mild), [Rice, Cheese, Sou...    $10.98   \n",
      "6                                                NaN     $1.69   \n",
      "7  [Tomatillo Red Chili Salsa, [Fajita Vegetables...    $11.75   \n",
      "8  [Tomatillo Green Chili Salsa, [Pinto Beans, Ch...     $9.25   \n",
      "9  [Fresh Tomato Salsa, [Rice, Black Beans, Pinto...     $9.25   \n"
     ]
    }
   ],
   "source": [
    "print(chipo.iloc[0:10])"
   ]
  },
  {
   "cell_type": "markdown",
   "metadata": {},
   "source": [
    "# Step 5. What is the number of observations in the dataset?"
   ]
  },
  {
   "cell_type": "code",
   "execution_count": 52,
   "metadata": {},
   "outputs": [
    {
     "name": "stdout",
     "output_type": "stream",
     "text": [
      "4622\n"
     ]
    }
   ],
   "source": [
    "print(chipo.shape[0])"
   ]
  },
  {
   "cell_type": "markdown",
   "metadata": {},
   "source": [
    "# Step 6. What is the number of columns in the dataset?"
   ]
  },
  {
   "cell_type": "code",
   "execution_count": 53,
   "metadata": {},
   "outputs": [
    {
     "name": "stdout",
     "output_type": "stream",
     "text": [
      "5\n"
     ]
    }
   ],
   "source": [
    "print(chipo.shape[1])"
   ]
  },
  {
   "cell_type": "markdown",
   "metadata": {},
   "source": [
    "# Step 7. Print the name of all the columns."
   ]
  },
  {
   "cell_type": "code",
   "execution_count": 54,
   "metadata": {},
   "outputs": [
    {
     "name": "stdout",
     "output_type": "stream",
     "text": [
      "Index(['order_id', 'quantity', 'item_name', 'choice_description',\n",
      "       'item_price'],\n",
      "      dtype='object')\n"
     ]
    }
   ],
   "source": [
    "print(chipo.columns)"
   ]
  },
  {
   "cell_type": "markdown",
   "metadata": {},
   "source": [
    "# Step 8. How is the dataset indexed?"
   ]
  },
  {
   "cell_type": "code",
   "execution_count": 55,
   "metadata": {},
   "outputs": [
    {
     "name": "stdout",
     "output_type": "stream",
     "text": [
      "RangeIndex(start=0, stop=4622, step=1)\n"
     ]
    }
   ],
   "source": [
    "print(chipo.index)"
   ]
  },
  {
   "cell_type": "markdown",
   "metadata": {},
   "source": [
    "# Step 9. Which was the most-ordered item?"
   ]
  },
  {
   "cell_type": "code",
   "execution_count": 56,
   "metadata": {},
   "outputs": [
    {
     "name": "stdout",
     "output_type": "stream",
     "text": [
      "0    Chicken Bowl\n",
      "dtype: object\n"
     ]
    }
   ],
   "source": [
    "print(chipo.item_name.mode())"
   ]
  },
  {
   "cell_type": "markdown",
   "metadata": {},
   "source": [
    "# Step 10. For the most-ordered item, how many items were ordered?"
   ]
  },
  {
   "cell_type": "code",
   "execution_count": 57,
   "metadata": {},
   "outputs": [
    {
     "name": "stdout",
     "output_type": "stream",
     "text": [
      "726\n"
     ]
    }
   ],
   "source": [
    "print(chipo.pivot_table(index=['item_name'], aggfunc='size').max())"
   ]
  },
  {
   "cell_type": "markdown",
   "metadata": {},
   "source": [
    "# Step 11. What was the most ordered item in the choice_description column?"
   ]
  },
  {
   "cell_type": "code",
   "execution_count": 58,
   "metadata": {},
   "outputs": [
    {
     "name": "stdout",
     "output_type": "stream",
     "text": [
      "0    [Diet Coke]\n",
      "dtype: object\n"
     ]
    }
   ],
   "source": [
    "print(chipo.choice_description.mode())"
   ]
  },
  {
   "cell_type": "markdown",
   "metadata": {},
   "source": [
    "# Step 12. How many items were orderd in total?\n"
   ]
  },
  {
   "cell_type": "code",
   "execution_count": 59,
   "metadata": {},
   "outputs": [
    {
     "name": "stdout",
     "output_type": "stream",
     "text": [
      "4972\n"
     ]
    }
   ],
   "source": [
    "print(chipo['quantity'].sum())"
   ]
  },
  {
   "cell_type": "markdown",
   "metadata": {},
   "source": [
    "# Step 13\n",
    "# 1.Turn the item price into a float"
   ]
  },
  {
   "cell_type": "code",
   "execution_count": 60,
   "metadata": {},
   "outputs": [],
   "source": [
    "chipo[\"item_price\"] = chipo[\"item_price\"].str.replace(r'$', '')\n",
    "chipo[\"item_price\"] = chipo[\"item_price\"].astype(str).astype(float)"
   ]
  },
  {
   "cell_type": "markdown",
   "metadata": {},
   "source": [
    "# 2.Check the item price type"
   ]
  },
  {
   "cell_type": "code",
   "execution_count": 61,
   "metadata": {},
   "outputs": [
    {
     "name": "stdout",
     "output_type": "stream",
     "text": [
      "float64\n"
     ]
    }
   ],
   "source": [
    "print(chipo['item_price'].dtypes)"
   ]
  },
  {
   "cell_type": "markdown",
   "metadata": {},
   "source": [
    "# 3.Create a lambda function and change the type of item price"
   ]
  },
  {
   "cell_type": "code",
   "execution_count": null,
   "metadata": {},
   "outputs": [],
   "source": []
  },
  {
   "cell_type": "markdown",
   "metadata": {},
   "source": [
    "# 4.Check the item price type"
   ]
  },
  {
   "cell_type": "code",
   "execution_count": null,
   "metadata": {},
   "outputs": [],
   "source": []
  },
  {
   "cell_type": "markdown",
   "metadata": {},
   "source": [
    "# Step 14. How much was the revenue for the period in the dataset?"
   ]
  },
  {
   "cell_type": "code",
   "execution_count": 62,
   "metadata": {},
   "outputs": [
    {
     "name": "stdout",
     "output_type": "stream",
     "text": [
      "34500.16\n"
     ]
    }
   ],
   "source": [
    "print(chipo[\"item_price\"].sum())"
   ]
  },
  {
   "cell_type": "markdown",
   "metadata": {},
   "source": [
    "# Step 15. How many orders were made in the period?\n"
   ]
  },
  {
   "cell_type": "code",
   "execution_count": 63,
   "metadata": {},
   "outputs": [
    {
     "name": "stdout",
     "output_type": "stream",
     "text": [
      "1834\n"
     ]
    }
   ],
   "source": [
    "print(len(chipo.order_id.unique()))"
   ]
  },
  {
   "cell_type": "markdown",
   "metadata": {},
   "source": [
    "# Step 16. What is the average revenue amount per order?"
   ]
  },
  {
   "cell_type": "code",
   "execution_count": 64,
   "metadata": {},
   "outputs": [
    {
     "name": "stdout",
     "output_type": "stream",
     "text": [
      "          quantity  item_price\n",
      "order_id                      \n",
      "1              1.0    2.890000\n",
      "2              2.0   16.980000\n",
      "3              1.0    6.335000\n",
      "4              1.0   10.500000\n",
      "5              1.0    6.850000\n",
      "...            ...         ...\n",
      "1830           1.0   11.500000\n",
      "1831           1.0    4.300000\n",
      "1832           1.0    6.600000\n",
      "1833           1.0   11.750000\n",
      "1834           1.0    9.583333\n",
      "\n",
      "[1834 rows x 2 columns]\n"
     ]
    }
   ],
   "source": [
    "print(chipo.groupby('order_id').mean('item_price'))"
   ]
  },
  {
   "cell_type": "markdown",
   "metadata": {},
   "source": [
    "# Step 17. How many different items are sold?\n"
   ]
  },
  {
   "cell_type": "code",
   "execution_count": 65,
   "metadata": {},
   "outputs": [
    {
     "name": "stdout",
     "output_type": "stream",
     "text": [
      "50\n"
     ]
    }
   ],
   "source": [
    "print(len(chipo.item_name.unique()))"
   ]
  },
  {
   "cell_type": "code",
   "execution_count": null,
   "metadata": {},
   "outputs": [],
   "source": []
  },
  {
   "cell_type": "code",
   "execution_count": null,
   "metadata": {},
   "outputs": [],
   "source": []
  },
  {
   "cell_type": "code",
   "execution_count": null,
   "metadata": {},
   "outputs": [],
   "source": []
  },
  {
   "cell_type": "code",
   "execution_count": null,
   "metadata": {},
   "outputs": [],
   "source": []
  },
  {
   "cell_type": "markdown",
   "metadata": {},
   "source": [
    "# Question 6\n",
    "# Create a line plot showing the number of marriages and divorces per capita in the U.S. between 1867 and 2014. Label both lines and show the legend. Don't forget to label your axes!\n"
   ]
  },
  {
   "cell_type": "code",
   "execution_count": 5,
   "metadata": {},
   "outputs": [
    {
     "data": {
      "image/png": "[encoded data removed]",
      "text/plain": [
       "<Figure size 576x576 with 1 Axes>"
      ]
     },
     "metadata": {
      "needs_background": "light"
     },
     "output_type": "display_data"
    }
   ],
   "source": [
    "import pandas as pd\n",
    "import matplotlib.pyplot as plt\n",
    "%matplotlib inline\n",
    "a = pd.read_csv('us-marriages-divorces-1867-2014.csv')\n",
    "b = pd.DataFrame(a,columns=['Year'])\n",
    "c = pd.DataFrame(a,columns=['Marriages_per_1000','Divorces_per_1000']) \n",
    "fig, ax = plt.subplots(figsize=(8, 8))\n",
    "for column in c:\n",
    "    ax.plot(a['Year'], c[column])\n",
    "ax.set_title('The Number of Marriages and Divorces per Capita in the U.S. between 1867 and 2014')\n",
    "ax.legend(c)\n",
    "plt.xlabel(\"Year\")\n",
    "plt.ylabel(\"Per Capita\")\n",
    "plt.show()\n"
   ]
  },
  {
   "cell_type": "markdown",
   "metadata": {},
   "source": [
    "# Question 7\n",
    "# Create a vertical bar chart comparing the number of marriages and divorces per capita in the U.S. between 1900, 1950, and 2000. Don't forget to label your axes!"
   ]
  },
  {
   "cell_type": "code",
   "execution_count": 67,
   "metadata": {},
   "outputs": [
    {
     "data": {
      "image/png": "[encoded data removed]",
      "text/plain": [
       "<Figure size 576x576 with 1 Axes>"
      ]
     },
     "metadata": {
      "needs_background": "light"
     },
     "output_type": "display_data"
    }
   ],
   "source": [
    "import pandas as pd\n",
    "import matplotlib.pyplot as plt\n",
    "%matplotlib inline\n",
    "a = pd.read_csv('us-marriages-divorces-1867-2014.csv')\n",
    "c=pd.DataFrame(a.loc[(a['Year'] == 1900)])\n",
    "d=pd.DataFrame(a.loc[(a['Year'] == 1950)])\n",
    "e=pd.DataFrame(a.loc[(a['Year'] == 2000)])\n",
    "f = pd.concat([c, d, e])\n",
    "plt.rcParams[\"figure.figsize\"] = (8, 8)\n",
    "f.plot(x=\"Year\", y=[\"Marriages_per_1000\", \"Divorces_per_1000\"], kind=\"bar\")\n",
    "plt.xlabel('Year')\n",
    "plt.ylabel('Per Capita')\n",
    "plt.title('Comparing the number of Marriages and Divorces per capita in the U.S. between 1900, 1950, and 2000')\n",
    "plt.show()"
   ]
  },
  {
   "cell_type": "markdown",
   "metadata": {},
   "source": [
    "# Question 8\n",
    "# Create a horizontal bar chart that compares the deadliest actors in Hollywood. Sort the actors by their kill count and label each bar with the corresponding actor's name. Don't forget to label your axes!\n"
   ]
  },
  {
   "cell_type": "code",
   "execution_count": 32,
   "metadata": {},
   "outputs": [
    {
     "data": {
      "image/png": "[encoded data removed]",
      "text/plain": [
       "<Figure size 576x576 with 1 Axes>"
      ]
     },
     "metadata": {
      "needs_background": "light"
     },
     "output_type": "display_data"
    }
   ],
   "source": [
    "import pandas as pd\n",
    "import matplotlib.pyplot as plt\n",
    "%matplotlib inline\n",
    "a = pd.read_csv('actor_kill_counts.csv')\n",
    "a.sort_values(by=['Count'], inplace=True)\n",
    "b = a['Actor']\n",
    "c = a['Count']\n",
    "plt.rcParams[\"figure.figsize\"] = (8, 8)\n",
    "plt.barh(b, c, align='center', alpha=0.5)\n",
    "plt.xlabel('kill count')\n",
    "plt.ylabel('Actor Name')\n",
    "plt.title('The Deadliest Actors in Hollywood')\n",
    "plt.show()\n"
   ]
  },
  {
   "cell_type": "markdown",
   "metadata": {},
   "source": [
    "# Question 9\n",
    "# Create a pie chart showing the fraction of all Roman Emperors that were assassinated.\n",
    "# Make sure that the pie chart is an even circle, labels the categories, and shows the percentage breakdown of the categories."
   ]
  },
  {
   "cell_type": "code",
   "execution_count": 36,
   "metadata": {},
   "outputs": [
    {
     "data": {
      "image/png": "[encoded data removed]",
      "text/plain": [
       "<Figure size 2160x2160 with 1 Axes>"
      ]
     },
     "metadata": {},
     "output_type": "display_data"
    }
   ],
   "source": [
    "import pandas as pd\n",
    "import matplotlib.pyplot as plt\n",
    "%matplotlib inline\n",
    "a = pd.read_csv('roman-emperor-reigns.csv')\n",
    "b=pd.DataFrame(a.loc[(a['Cause_of_Death'] == \"Assassinated\")])\n",
    "my_labels = b['Emperor']\n",
    "fig, ax = plt.subplots()\n",
    "ax.pie(b[\"Length_of_Reign\"],labels=my_labels,autopct='%1.1f%%',textprops={'fontsize': 15})\n",
    "fig = plt.gcf()\n",
    "fig.set_size_inches(30,30) \n",
    "plt.title('The fraction of all Roman Emperors that were Assassinated',fontsize=30)\n",
    "plt.show()"
   ]
  },
  {
   "cell_type": "markdown",
   "metadata": {},
   "source": [
    "# Question 10\n",
    "# Create a scatter plot showing the relationship between the total revenue earned by arcades and the number of Computer Science PhDs awarded in the U.S. between 2000 and 2009.\n",
    "# Don't forget to label your axes!\n",
    "# Color each dot according to its year."
   ]
  },
  {
   "cell_type": "code",
   "execution_count": 30,
   "metadata": {},
   "outputs": [
    {
     "data": {
      "image/png": "[encoded data removed]",
      "text/plain": [
       "<Figure size 576x576 with 1 Axes>"
      ]
     },
     "metadata": {
      "needs_background": "light"
     },
     "output_type": "display_data"
    }
   ],
   "source": [
    "import pandas as pd\n",
    "import matplotlib.pyplot as plt\n",
    "%matplotlib inline\n",
    "a = pd.read_csv('arcade-revenue-vs-cs-doctorates.csv')\n",
    "fig, ax = plt.subplots(figsize=(8, 8))\n",
    "for i in range(len(a['Year'])):\n",
    "    ax.scatter(a['Total Arcade Revenue (billions)'][i], a['Computer Science Doctorates Awarded (US)'][i])\n",
    "ax.set_title('The relationship between the total revenue earned by arcades and the number of Computer Science PhDs awarded in the U.S. between2000 and 2009')\n",
    "ax.set_xlabel('Total Revenue (billions)')\n",
    "ax.set_ylabel('No of Computer Science PhDs (US)')\n",
    "plt.show()"
   ]
  },
  {
   "cell_type": "code",
   "execution_count": null,
   "metadata": {},
   "outputs": [],
   "source": []
  }
 ],
 "metadata": {
  "kernelspec": {
   "display_name": "Python 3",
   "language": "python",
   "name": "python3"
  },
  "language_info": {
   "codemirror_mode": {
    "name": "ipython",
    "version": 3
   },
   "file_extension": ".py",
   "mimetype": "text/x-python",
   "name": "python",
   "nbconvert_exporter": "python",
   "pygments_lexer": "ipython3",
   "version": "3.8.5"
  }
 },
 "nbformat": 4,
 "nbformat_minor": 4
}
